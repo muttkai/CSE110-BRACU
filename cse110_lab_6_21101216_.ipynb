{
  "nbformat": 4,
  "nbformat_minor": 0,
  "metadata": {
    "colab": {
      "provenance": []
    },
    "kernelspec": {
      "name": "python3",
      "display_name": "Python 3"
    },
    "language_info": {
      "name": "python"
    }
  },
  "cells": [
    {
      "cell_type": "code",
      "source": [
        "#task-1\n",
        "#To do\n",
        "try:\n",
        "    my_list=[10,20,30,40,60,100,2,5]\n",
        "    pos=int(input())\n",
        "    print(my_list[pos])\n",
        "except:\n",
        "    print('Index out of range')\n",
        "finally:\n",
        "    print('Program ended')"
      ],
      "metadata": {
        "id": "Ul4KPgTzVfhY"
      },
      "execution_count": null,
      "outputs": []
    },
    {
      "cell_type": "code",
      "source": [
        "#task-2\n",
        "#To do\n",
        "try:\n",
        "    my_dictionary={'Potato':12, 'Onion':16, 'Ginger':15, 'Garlic':12, 'Tomato':15}\n",
        "    my_dictionary1=input('').split(',')\n",
        "    total=0\n",
        "\n",
        "    for items in my_dictionary1:\n",
        "        total+=my_dictionary[items]\n",
        "    print(total)\n",
        "\n",
        "\n",
        "except NameError:\n",
        "    print('variable is not initialized.')\n",
        "except KeyError:\n",
        "     print('Some groceries are not available in the dictionary.')"
      ],
      "metadata": {
        "id": "Pmram5xcVfjv"
      },
      "execution_count": null,
      "outputs": []
    },
    {
      "cell_type": "code",
      "source": [
        "#task-3\n",
        "#To do\n",
        "list1=input().split(',')\n",
        "list2=input().split(',')\n",
        "list3=0\n",
        "max_len=0\n",
        "try:\n",
        "    if len(list1) > len(list2):\n",
        "        max_len = len(list1)\n",
        "    else:\n",
        "        max_len = len(list2)\n",
        "\n",
        "    for i in range(0, max_len):\n",
        "        list3=list3+(int(list1[i])*int(list2[i]))\n",
        "    print(list3)\n",
        "\n",
        "except IndexError:\n",
        "    print('Index out of bound')\n",
        "except NameError:\n",
        "    print('The new variable is not declared')\n",
        "except ValueError:\n",
        "    print('The list has some non number values')"
      ],
      "metadata": {
        "id": "qNr37HGNVfl1"
      },
      "execution_count": null,
      "outputs": []
    },
    {
      "cell_type": "code",
      "source": [
        "#task-4\n",
        "#To do\n",
        "try:\n",
        "    string10=input()\n",
        "    vowels= 0\n",
        "    consonants= 0\n",
        "\n",
        "    for i in string10:\n",
        "        if(i == 'a' or i == 'e' or i == 'i' or i == 'o' or i == 'u'or i == 'A' or i == 'E' or i == 'I' or i == 'O' or i == 'U'):\n",
        "            vowels = vowels + 1\n",
        "\n",
        "        else:\n",
        "            consonants = consonants + 1\n",
        "\n",
        "\n",
        "    if len(str(vowels))>=len(str(consonants)):\n",
        "        raise RuntimeError\n",
        "\n",
        "\n",
        "except RuntimeError:\n",
        "    print('Number of vowels is greater/equal. Paraphrase the sentence')\n",
        "\n",
        "else:\n",
        "    print('The sentence will work')"
      ],
      "metadata": {
        "id": "4BpTQk2NVgCI"
      },
      "execution_count": null,
      "outputs": []
    },
    {
      "cell_type": "code",
      "source": [
        "#task-5\n",
        "\n",
        "#To do\n",
        "try:\n",
        "    m10=input()\n",
        "    f=[]\n",
        "    f=m10.split(',')\n",
        "    f2=[]\n",
        "    for i in f:\n",
        "        h=1050\n",
        "        E=h*int(i)\n",
        "        f2.append(E)\n",
        "    print(f2)\n",
        "except:\n",
        "    print('Wrong input type')"
      ],
      "metadata": {
        "id": "WYK6LBISVgIK"
      },
      "execution_count": null,
      "outputs": []
    },
    {
      "cell_type": "code",
      "source": [
        "#task-6\n",
        "#To do\n",
        "def function_call(sentence,removed,starting,ending):\n",
        "    string=''\n",
        "    count=0\n",
        "    for i in range(0,starting):\n",
        "        string+=sentence[i]\n",
        "    for i in range(starting,ending+1):\n",
        "        if sentence[i]!=removed:\n",
        "            string+=sentence[i]\n",
        "        else:\n",
        "            count+=1\n",
        "            string=string+str(count)\n",
        "    for i in range(ending+1,len(sentence)):\n",
        "        string+=sentence[i]\n",
        "    print(string)\n",
        "try:\n",
        "    sentence=input()\n",
        "    removed=input()\n",
        "    starting=int(input())\n",
        "    ending=int(input())\n",
        "    function_call(sentence,removed,starting,ending)\n",
        "\n",
        "\n",
        "except NameError:\n",
        "    print('Name Error: Variable not defined')\n",
        "except ValueError:\n",
        "    print('Value Error: Wrong input, please enter an integer value')\n",
        "except TypeError:\n",
        "    print('Type Error: Cannot add integer value with string')\n",
        "except IndexError:\n",
        "    print('Index Error: Index is outside the range of sentence length')\n",
        "except:\n",
        "    print('Some other error occurred')\n",
        "finally:\n",
        "    print('The program execution is complete')"
      ],
      "metadata": {
        "id": "OLRVjFKGVgN2"
      },
      "execution_count": null,
      "outputs": []
    },
    {
      "cell_type": "code",
      "source": [
        "#task-7\n",
        "#To do\n",
        "try:\n",
        "    file=open('employee.txt','r')\n",
        "    lines=file.readlines()\n",
        "    dictionary={}\n",
        "    sum=0\n",
        "\n",
        "    for line in lines:\n",
        "        list1=line.split()\n",
        "\n",
        "\n",
        "        if len(list1)>2 or len(list1)<2:\n",
        "            raise Exception('Extra Statement')\n",
        "\n",
        "\n",
        "        x=int(list1[1])\n",
        "        dictionary[list1[0]]=x\n",
        "    print(dictionary)\n",
        "\n",
        "    for i in dictionary.values():\n",
        "        sum+=i\n",
        "    print('sum =',sum)\n",
        "\n",
        "\n",
        "except ValueError:\n",
        "    print('enter int value')\n",
        "except FileNotFoundError:\n",
        "    print('file is not available')\n",
        "except Exception as p:\n",
        "    print(p)"
      ],
      "metadata": {
        "id": "YEc62rZlVgTJ"
      },
      "execution_count": null,
      "outputs": []
    },
    {
      "cell_type": "code",
      "source": [
        "#task-8\n",
        "#To do\n",
        "try:\n",
        "    day=input('')\n",
        "    month=input('')\n",
        "\n",
        "    if day.isnumeric() and month.isnumeric():\n",
        "        day=int(day)\n",
        "        month=int(month)\n",
        "\n",
        "    if day<=31 and month<=12:\n",
        "        if day<10:\n",
        "            distance=5+(day*2)/month\n",
        "        else:\n",
        "            distance=3+(day/month)\n",
        "        print(distance,'kilometres')\n",
        "    elif day>31 or month>12:\n",
        "        raise ValueError\n",
        "\n",
        "except TypeError:\n",
        "    print('Please do not enter any string as input')\n",
        "\n",
        "except ValueError:\n",
        "    if month>12:\n",
        "        print(month,'is not a valid month')\n",
        "    if day>31:\n",
        "        print(day,'is not a valid day of any month')\n",
        "\n",
        "except ZeroDivisionError:\n",
        "    print('0 is not a valid month')"
      ],
      "metadata": {
        "id": "hc6iMxfRVgil"
      },
      "execution_count": null,
      "outputs": []
    },
    {
      "cell_type": "code",
      "source": [
        "#task-9\n",
        "\n",
        "#todo\n",
        "opperator=input().split(' ')\n",
        "\n",
        "try:\n",
        "    result=0\n",
        "    if len(opperator)!=3:\n",
        "        raise IndexError\n",
        "\n",
        "    if opperator[1] =='+':\n",
        "        result=int(opperator[0])+int(opperator[2])\n",
        "    elif opperator[1]=='-':\n",
        "        result=int(opperator[0])-int(opperator[2])\n",
        "    elif opperator[1]=='*':\n",
        "        result=int(opperator[0])*int(opperator[2])\n",
        "    elif opperator[1]=='/':\n",
        "        result=int(opperator[0])/int(opperator[2])\n",
        "    else:\n",
        "        raise Exception\n",
        "\n",
        "    print('The answer is :',result)\n",
        "except IndexError:\n",
        "    print('Input does not contain 3 elements/Wrong operator')\n",
        "\n",
        "except ValueError:\n",
        "    print('Input does not contain  numbers')\n",
        "except ZeroDivisionError:\n",
        "    print('can not divided by zero')\n",
        "except Exception:\n",
        "    print('Input does not contain 3 elements/Wrong operator')"
      ],
      "metadata": {
        "id": "REtHN8umVgt0"
      },
      "execution_count": null,
      "outputs": []
    }
  ]
}