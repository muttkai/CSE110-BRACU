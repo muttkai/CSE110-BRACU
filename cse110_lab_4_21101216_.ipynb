{
  "nbformat": 4,
  "nbformat_minor": 0,
  "metadata": {
    "colab": {
      "provenance": []
    },
    "kernelspec": {
      "name": "python3",
      "display_name": "Python 3"
    },
    "language_info": {
      "name": "python"
    }
  },
  "cells": [
    {
      "cell_type": "code",
      "source": [
        "#task-1\n",
        "#TODO.\n",
        "a_tuple = (\"The Institute\",(\"Best Mystery & Thriller\", \"The Silent Patient\", 68821),75717,[1, 2, 3, 400, 5, 6, 7],\n",
        "           (\"Best Fiction\", \"The Testaments\", 98291))\n",
        "print(a_tuple[3][3])"
      ],
      "metadata": {
        "id": "2xJ_4Dcv0aIR"
      },
      "execution_count": null,
      "outputs": []
    },
    {
      "cell_type": "code",
      "source": [
        "#task-2\n",
        "#Todo\n",
        "a_tuple =  (10, 20, 24, 25, 26, 35, 70)\n",
        "print(a_tuple[2:5])"
      ],
      "metadata": {
        "id": "sLVUf2o70lDL"
      },
      "execution_count": null,
      "outputs": []
    },
    {
      "cell_type": "code",
      "source": [
        "#task-3\n",
        "\n",
        "#Todo\n",
        "book_info = ((\"Best Mystery & Thriller\",\"The Silent Patient\",68,821),(\"Best Horror\",\"The Institute\",75,717),\n",
        "             (\"Best History & Biography\",\"The five\",31,783 ),(\"Best Fiction\",\"The Testaments\",98,291))\n",
        "print('size of the tuple is:',len(book_info),'\\n',(\"Best Mystery & Thriller\",\"The Silent Patient\",68,821),'\\n',(\"Best Horror\",\"The Institute\",75,717),\n",
        "             '\\n',(\"Best History & Biography\",\"The five\",31,783 ),'\\n',(\"Best Fiction\",\"The Testaments\",98,291))"
      ],
      "metadata": {
        "id": "bPAJ8l9G0lHA"
      },
      "execution_count": null,
      "outputs": []
    },
    {
      "cell_type": "code",
      "source": [
        "#task-4\n",
        "#Todo\n",
        "book_info = (\n",
        "(\"Best Mystery & Thriller\",\"The Silent Patient\",68821),\n",
        "(\"Best Horror\",\"The Institute\",75717),\n",
        "(\"Best History & Biography\",\"The five\",31783 ),\n",
        "(\"Best Fiction\",\"The Testaments\",98291)\n",
        ")\n",
        "for tup in range(len(book_info)):\n",
        "    m,n,o=book_info[tup] #touple unpaking\n",
        "    print(n+' won the \\''+ m+'\\' catagory with '+str(o)+' votes ')"
      ],
      "metadata": {
        "id": "NeyJCJlu0lK8"
      },
      "execution_count": null,
      "outputs": []
    },
    {
      "cell_type": "code",
      "source": [
        "#task-5\n",
        "#Todo\n",
        "a_tuple = ( [1, 2, 3], [4, 5, 6], [7, 8, 9], [10, 11, 12])\n",
        "n1=input('enter n1:')\n",
        "for tup in range(len(a_tuple)):\n",
        "    a_tuple[tup][-1]=n1\n",
        "print(a_tuple)"
      ],
      "metadata": {
        "id": "vn37xb_f0lNj"
      },
      "execution_count": null,
      "outputs": []
    },
    {
      "cell_type": "code",
      "source": [
        "#task-6\n",
        "#todo\n",
        "shopping_list={'Chocolate':'Hersheys','Cocoa powder':'Cadbury','Spread':'Nutella'}\n",
        "shopping_list.update({\"Baking powder\":\"Foster clarks\"}) #by using update()\n",
        "print(shopping_list)"
      ],
      "metadata": {
        "id": "_VD4cimn0lP4"
      },
      "execution_count": null,
      "outputs": []
    },
    {
      "cell_type": "code",
      "source": [
        "#task-7\n",
        "#todo\n",
        "marks_boys = {'Harry':15, 'Draco':8, 'Nevil':19}\n",
        "marks_girls = {'Ginie':18, 'Luna': 14}\n",
        "marks_mixed=marks_boys.copy() #copy marks_boys in marks_mixed\n",
        "marks_mixed.update(marks_girls) #then i update marks_mixed by adding marks_girls using update()\n",
        "print(marks_mixed)"
      ],
      "metadata": {
        "id": "wJzd-mam0lSO"
      },
      "execution_count": null,
      "outputs": []
    },
    {
      "cell_type": "code",
      "source": [
        "#task-8\n",
        "#todo\n",
        "count=0\n",
        "sum=0\n",
        "salary = {'Jon': 100, 'Dan':200, 'Rob':300}\n",
        "for i in salary.values():\n",
        "    sum=sum+i\n",
        "    count+=1\n",
        "average=sum/count\n",
        "print('Average is',average)"
      ],
      "metadata": {
        "id": "ClkcDiQo0lUc"
      },
      "execution_count": null,
      "outputs": []
    },
    {
      "cell_type": "code",
      "source": [
        "#task-9\n",
        "#todo\n",
        "bank = {'customer1':101, 'customer2':102, 'customer3':101, 'customer4':103, 'customer5':102}\n",
        "bank1={}\n",
        "count=0\n",
        "for value in bank.values():\n",
        "    if value not in bank1.values():\n",
        "        key=list(bank.keys())\n",
        "        bank1[key[count]]=value\n",
        "    count+=1\n",
        "print(bank1)"
      ],
      "metadata": {
        "id": "FCEtsMPZ0lW6"
      },
      "execution_count": null,
      "outputs": []
    },
    {
      "cell_type": "code",
      "source": [
        "#task-10\n",
        "#todo\n",
        "book_shop = {'sci fi': 12, 'mystery': 15, 'horror': 8, 'mythology': 10,\n",
        "             'young_adult': 4, 'adventure':14}\n",
        "max=0\n",
        "for value in book_shop.values():\n",
        "    if value>max:\n",
        "        max=value\n",
        "print('The highest selling book genre is mystery and the number of books sold are',max)"
      ],
      "metadata": {
        "id": "lDRLW3uo0lZQ"
      },
      "execution_count": null,
      "outputs": []
    },
    {
      "cell_type": "code",
      "source": [
        "#task-11\n",
        "#todo\n",
        "dict1 = {'a': 10, 'b':20, 'c':30}\n",
        "dict2 = {'a': 10, 'c':20, 'd':30, 'e':40}\n",
        "dict3=dict(dict1)\n",
        "dict3.update(dict2)\n",
        "for key,values in dict1.items():\n",
        "    for key1,values1 in dict2.items():\n",
        "        if key==key1:\n",
        "            dict3[key]=values+values1\n",
        "print(dict3)"
      ],
      "metadata": {
        "id": "Hlk8gZ8R0lbu"
      },
      "execution_count": null,
      "outputs": []
    },
    {
      "cell_type": "code",
      "source": [
        "#task-12\n",
        "#todo\n",
        "string10=input('enter a string')\n",
        "new_dict={}\n",
        "for char in string10:\n",
        "    if ord(char)!=32:  #space\n",
        "        if 65<=ord(char)<=90:\n",
        "            char=chr(ord(char)+32)\n",
        "        if char not in new_dict.keys():\n",
        "            new_dict[char]=0\n",
        "\n",
        "for char in string10:\n",
        "    if ord(char)!=32:\n",
        "        if 65<=ord(char)<=90:\n",
        "            char=chr(ord(char)+32)\n",
        "        new_dict[char]+=1\n",
        "\n",
        "print(new_dict)"
      ],
      "metadata": {
        "id": "lZiEVr6J0ld1"
      },
      "execution_count": null,
      "outputs": []
    },
    {
      "cell_type": "code",
      "source": [
        "#task-13\n",
        "#todo\n",
        "dict = {'A': [1,2,3], 'b': ['1', '2'], \"c\": [4, 5, 6, 7]}\n",
        "count=0\n",
        "for key,values in dict.items():\n",
        "    count+=len(values) #by using len we can calculate total values\n",
        "print(count)"
      ],
      "metadata": {
        "id": "IWgHuSN10lfy"
      },
      "execution_count": null,
      "outputs": []
    },
    {
      "cell_type": "code",
      "source": [
        "#task-14\n",
        "#todo\n",
        "num10=int(input('take a number:'))\n",
        "dictionary=dict()\n",
        "for dictionary1 in range(1,num10+1):\n",
        "    dictionary[dictionary1]=dictionary1*dictionary1  #as we know a^2=a*a\n",
        "print(dictionary)"
      ],
      "metadata": {
        "id": "KJHFua_O0rQE"
      },
      "execution_count": null,
      "outputs": []
    },
    {
      "cell_type": "code",
      "source": [
        "#task-15\n",
        "list = [(\"a\", 1), (\"b\", 2), (\"a\", 3), (\"b\", 1), (\"a\", 2), (\"c\", 1)]\n",
        "touple1={}\n",
        "for(key,value) in list:\n",
        "    if key not in touple1.keys():\n",
        "        touple1[key]=[value]\n",
        "    else:\n",
        "        touple1[key].append(value)\n",
        "print(touple1)\n",
        "\n",
        "\n",
        "\n",
        "p=input().split()\n",
        "dic1={}\n",
        "for i in range(0,len(p)):\n",
        "    dic1.update({p[i]:0})\n",
        "\n",
        "for j in p:\n",
        "    for k,v in dic1:\n",
        "        if 65<=ord(j)<=122 or 48<=chr(j)<=57:\n",
        "            dic1.update({k:[v]})\n",
        "        else:\n",
        "            dic1[k].update(v)\n",
        "print(dic1)"
      ],
      "metadata": {
        "id": "y8x14osG0rSa"
      },
      "execution_count": null,
      "outputs": []
    }
  ]
}