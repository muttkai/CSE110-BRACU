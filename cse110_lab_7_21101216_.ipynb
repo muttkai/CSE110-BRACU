{
  "nbformat": 4,
  "nbformat_minor": 0,
  "metadata": {
    "colab": {
      "provenance": []
    },
    "kernelspec": {
      "name": "python3",
      "display_name": "Python 3"
    },
    "language_info": {
      "name": "python"
    }
  },
  "cells": [
    {
      "cell_type": "code",
      "source": [
        "#task-1\n",
        "#todo\n",
        "my_list=[10,1,20,3,6,2,5,11,15,2,12,14,17,18,29]\n",
        "\n",
        "for i in range(len(my_list)-1):\n",
        "\n",
        "    for j in range(0,len(my_list)-i-1):\n",
        "        if my_list[j]>my_list[j+1]:\n",
        "\n",
        "            temp=my_list[j]\n",
        "            my_list[j]=my_list[j+1]\n",
        "            my_list[j+1]=temp\n",
        "\n",
        "print(my_list)"
      ],
      "metadata": {
        "id": "7GKSSTwsZ6IZ"
      },
      "execution_count": null,
      "outputs": []
    },
    {
      "cell_type": "code",
      "source": [
        "#task-2\n",
        "#todo\n",
        "my_list=[10,1,20,3,6,2,5,11,15,2,12,14,17,18,29]\n",
        "\n",
        "for i in range(len(my_list)):\n",
        "    min_index=i\n",
        "\n",
        "    for j in range(i+1,len(my_list)):\n",
        "        if my_list[j]<my_list[min_index]:\n",
        "            min_index=j\n",
        "\n",
        "    temp=my_list[min_index]\n",
        "    my_list[min_index]=my_list[i]\n",
        "    my_list[i]=temp\n",
        "\n",
        "print(my_list)"
      ],
      "metadata": {
        "id": "dzmy85e9Z6MD"
      },
      "execution_count": null,
      "outputs": []
    },
    {
      "cell_type": "code",
      "source": [
        "#task-3\n",
        "\n",
        "#todo\n",
        "my_list=[10,1,20,3,6,2,5,11,15,2,12,14,17,18,29]\n",
        "\n",
        "for i in range(len(my_list)-1):\n",
        "\n",
        "    for j in range(0,len(my_list)-i-1):\n",
        "        if my_list[j]<my_list[j+1]:\n",
        "\n",
        "            temp=my_list[j]\n",
        "            my_list[j]=my_list[j+1]\n",
        "            my_list[j+1]=temp\n",
        "\n",
        "print(my_list)"
      ],
      "metadata": {
        "id": "TdSTD7ExZ6P9"
      },
      "execution_count": null,
      "outputs": []
    },
    {
      "cell_type": "code",
      "source": [
        "#task-4\n",
        "#todo\n",
        "sitting_list=[10,30,20,70,11,15,22,16,58,100,12,56,70,80]\n",
        "for i in range(len(sitting_list)):\n",
        "    if i%2==0:\n",
        "        min_index=i\n",
        "        for j in range(i+2,len(sitting_list),2):\n",
        "            if sitting_list[j]<sitting_list[min_index]:\n",
        "                min_index=j\n",
        "\n",
        "        temp=sitting_list[min_index]\n",
        "        sitting_list[min_index]=sitting_list[i]\n",
        "        sitting_list[i]=temp\n",
        "    else:\n",
        "        max_index=i\n",
        "        for j in range(i+2,len(sitting_list),2):\n",
        "            if sitting_list[j]>sitting_list[max_index]:\n",
        "                max_index=j\n",
        "\n",
        "        temp=sitting_list[max_index]\n",
        "        sitting_list[max_index]=sitting_list[i]\n",
        "        sitting_list[i]=temp\n",
        "print(sitting_list)"
      ],
      "metadata": {
        "id": "krQKzHiFZ6Um"
      },
      "execution_count": null,
      "outputs": []
    },
    {
      "cell_type": "code",
      "source": [
        "#task-5\n",
        "#todo\n",
        "sub=input()\n",
        "count=0\n",
        "lst = [['Farzad',95,87,91],['Mahjabin',92,90,83],['Sadman',87,92,80],['Nakhla',85,94,90]]\n",
        "num=[]\n",
        "student=[]\n",
        "if sub=='CSE110':\n",
        "    count=1\n",
        "if sub=='PHY111':\n",
        "    count=2\n",
        "if sub=='MAT110':\n",
        "    count=3\n",
        "for  i in range(len(lst)):\n",
        "    num.append(lst[i][count])\n",
        "for j in range (len(lst)):\n",
        "    student.append(lst[j] [0])\n",
        "for k in range(0,len(num)-1):\n",
        "    for l in range(0,len(num)-k-1):\n",
        "        if num[l]<num[l+1]:\n",
        "\n",
        "            temp=num[l]\n",
        "            num[l]=num[l+1]\n",
        "            num[l+1]=temp\n",
        "            temp1=student[l]\n",
        "            student[l]=student[l+1]\n",
        "            student[l+1]=temp1\n",
        "for m in range(0,len(student)):\n",
        "    print(student[m])"
      ],
      "metadata": {
        "id": "EwLSVJDEZ6Yk"
      },
      "execution_count": null,
      "outputs": []
    },
    {
      "cell_type": "code",
      "source": [
        "#task-6\n",
        "#todo\n",
        "My_list = [4,2,3,1,6,5]\n",
        "count=0\n",
        "list1=sorted(My_list)\n",
        "for i in range (len(list1)):\n",
        "    if My_list[i]!=list1[i]:\n",
        "        count+=1\n",
        "print(count)"
      ],
      "metadata": {
        "id": "BWGWqVt4Z6cP"
      },
      "execution_count": null,
      "outputs": []
    },
    {
      "cell_type": "code",
      "source": [
        "#task-7\n",
        "#todo\n",
        "median=0\n",
        "list_one=input().split(',')\n",
        "list_two=input().split(',')\n",
        "final_list=list_one+list_two\n",
        "\n",
        "for i in range(len(final_list)):\n",
        "    final_list[i]=int(final_list[i])\n",
        "final_list.sort()\n",
        "\n",
        "print('Sorted list=',final_list)\n",
        "\n",
        "n=len(final_list)\n",
        "if n%2==0:\n",
        "    median=int(final_list[n//2])+int(final_list[(n//2)-1])\n",
        "    median=median/2\n",
        "\n",
        "else:\n",
        "    median=int(final_list[n//2])\n",
        "\n",
        "print('Median=',median)"
      ],
      "metadata": {
        "id": "ZnHU_L12Z6gs"
      },
      "execution_count": null,
      "outputs": []
    },
    {
      "cell_type": "code",
      "source": [
        "#task-8\n",
        "#todo\n",
        "\n",
        "def calculation_diff(total):\n",
        "    diff=0\n",
        "    if total>0:\n",
        "        diff=total-0\n",
        "    else:\n",
        "        diff=0-total\n",
        "\n",
        "    return diff\n",
        "list_one=input().split(',')\n",
        "total=0\n",
        "dic={}\n",
        "for i in range(len(list_one)):\n",
        "    list_one[i]=int(list_one[i])\n",
        "min1=0\n",
        "min_key=0\n",
        "for i in range(len(list_one)):\n",
        "    for j in range(i+1,len(list_one)):\n",
        "        total=list_one[i]+list_one[j]\n",
        "        d=calculation_diff(total)\n",
        "\n",
        "        dic[total]=[list_one[i],list_one[j],d]\n",
        "        min1=dic[total][2]\n",
        "        min_key=total\n",
        "for k,v in dic.items():\n",
        "    if dic[k][2]<min1:\n",
        "        min1=dic[k][2]\n",
        "        min_key=k\n",
        "print('Two pairs which have the smallest sum =',dic[min_key][0],'and',dic[min_key][1])\n",
        "\n",
        "\n",
        "list_on= input().split(',')\n",
        "list_one=[]\n",
        "for num in list_on:\n",
        "    list_one.append(int(num))\n",
        "sum_min=max(list_one)\n",
        "for i in range(len(list_one)-1):\n",
        "    for j in range(i+1,len(list_one)):\n",
        "        sum1= list_one[i]+list_one[j]\n",
        "        if sum1<0:\n",
        "            sum1=(-1)*sum1\n",
        "        if sum1< sum_min:\n",
        "            sum_min=sum1\n",
        "            x,y=list_one[i],list_one[j]\n",
        "print('Two pairs which have the smallest sum =' ,x, 'and' ,y)"
      ],
      "metadata": {
        "id": "H0Q5biE8Z6lf"
      },
      "execution_count": null,
      "outputs": []
    }
  ]
}