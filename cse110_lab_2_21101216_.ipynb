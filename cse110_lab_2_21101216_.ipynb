{
  "nbformat": 4,
  "nbformat_minor": 0,
  "metadata": {
    "colab": {
      "provenance": []
    },
    "kernelspec": {
      "name": "python3",
      "display_name": "Python 3"
    },
    "language_info": {
      "name": "python"
    }
  },
  "cells": [
    {
      "cell_type": "code",
      "execution_count": null,
      "metadata": {
        "id": "_JwhIaDAWdmn"
      },
      "outputs": [],
      "source": [
        "#task_1\n",
        " # a) 24, 18, 12, 6, 0, -6\n",
        "\n",
        "# initialize loop counter\n",
        "counter = 24\n",
        "\n",
        "# loop structure\n",
        "while counter >= -6:\n",
        "\n",
        "    #inside loop body\n",
        "    if counter == -6:\n",
        "        print(counter, end = \"\")\n",
        "    else:\n",
        "        print(counter, end = \", \")\n",
        "\n",
        "    counter = counter - 6 #updating loop counter\n",
        "    #inside loop body\n",
        "\n",
        "#outside loop body"
      ]
    },
    {
      "cell_type": "code",
      "source": [
        "# b)-10, -5, 0, 5, 10, 15, 20\n",
        "counter=-10\n",
        "while counter <=20:\n",
        "    if counter ==20:\n",
        "        print(counter,end=\"\")\n",
        "    else:\n",
        "        print(counter, end = \", \")\n",
        "    counter=counter+5"
      ],
      "metadata": {
        "id": "f8HIynvcSs-0"
      },
      "execution_count": null,
      "outputs": []
    },
    {
      "cell_type": "code",
      "source": [
        "# c)18, 27, 36, 45, 54, 63\n",
        "counter=18\n",
        "while counter <=63:\n",
        "    if counter ==63:\n",
        "        print(counter,end=\"\")\n",
        "    else:\n",
        "        print(counter, end = \", \")\n",
        "    counter=counter+9"
      ],
      "metadata": {
        "id": "7o52yU6-StLY"
      },
      "execution_count": null,
      "outputs": []
    },
    {
      "cell_type": "code",
      "source": [
        "# d)18,-27, 36,-45,54,-63\n",
        "count=2\n",
        "while count<=7:\n",
        "    if count % 2!=0:\n",
        "        print((-1)*(9*count),end=\",\")\n",
        "    else:\n",
        "        print(9*count,end=\", \")\n",
        "    count=count+1"
      ],
      "metadata": {
        "id": "Q7QXuWrSS5rD"
      },
      "execution_count": null,
      "outputs": []
    },
    {
      "cell_type": "code",
      "source": [
        "#task-2\n",
        "#Todo\n",
        "n=str(input('enter favorite car:'))\n",
        "p=int(input('enter num:'))\n",
        "count=0\n",
        "while(count<p):\n",
        "    print(n)\n",
        "    count=count+1"
      ],
      "metadata": {
        "id": "k62-hBXOS5tA"
      },
      "execution_count": null,
      "outputs": []
    },
    {
      "cell_type": "code",
      "source": [
        "#task-3\n",
        "\n",
        "#Todo\n",
        "sum=0\n",
        "for n in range(0,600):\n",
        "    if n%7==0 and n%5==0:\n",
        "        sum=sum+n\n",
        "print(sum)"
      ],
      "metadata": {
        "id": "ivjeZLbmUVvI"
      },
      "execution_count": null,
      "outputs": []
    },
    {
      "cell_type": "code",
      "source": [
        "#task-4\n",
        "#Todo\n",
        "sum=0\n",
        "for n in range(0,600):\n",
        "    if n%7==0 or n%9==0:\n",
        "        sum=sum+n\n",
        "print(sum)"
      ],
      "metadata": {
        "id": "9wr2bLZxUVyk"
      },
      "execution_count": null,
      "outputs": []
    },
    {
      "cell_type": "code",
      "source": [
        "#task-5\n",
        "#Todo\n",
        "sum=0\n",
        "for x in range(0,600):\n",
        "    if((x%7==0 and x%9!=0) or (x%7!=0 and x%9==0)):\n",
        "        sum=sum+x\n",
        "print(sum)"
      ],
      "metadata": {
        "id": "kUSMwjC3UV4f"
      },
      "execution_count": null,
      "outputs": []
    },
    {
      "cell_type": "code",
      "source": [
        "#task-6\n",
        "#Todo\n",
        "start=int(input('enter the star of range:'))\n",
        "end=int(input('enter the end of range:'))\n",
        "for num in range(start,end + 1):\n",
        "    if num%2!=0:\n",
        "        print(num,end=' ')"
      ],
      "metadata": {
        "id": "NCZ0gjN9f8uV"
      },
      "execution_count": null,
      "outputs": []
    },
    {
      "cell_type": "code",
      "source": [
        "#task-7\n",
        "#Todo\n",
        "x=abs(int(input('enter the value of n:')))\n",
        "sum=0\n",
        "i=1\n",
        "while i<=x:\n",
        "    sum=sum+pow(-1,i+1)*(i*i)\n",
        "    i=i+1\n",
        "print('y:',sum)"
      ],
      "metadata": {
        "id": "deAextjAf8wk"
      },
      "execution_count": null,
      "outputs": []
    },
    {
      "cell_type": "code",
      "source": [
        "#task-8\n",
        "sum = 0\n",
        "count=0\n",
        "for i in range(10):\n",
        "    y=int(input('enter n:'))\n",
        "    if y%2!=0:\n",
        "        sum=sum+y\n",
        "        count+=1\n",
        "average=sum/count\n",
        "print('total is',sum,\"and\" , 'average',average)\n",
        "\n",
        "\n",
        "a=int(input())\n",
        "if a%2==0 and a!=0:\n",
        "\tprint(\"The number\", a,\" is even\")\n",
        "elif a%2!=0:\n",
        "\tprint(\"The number\", a,\" is odd\")\n",
        "elif a==0:\n",
        "\tprint(\"The number\", a,\" is neutral\")"
      ],
      "metadata": {
        "id": "TM8_8jVvgHx4"
      },
      "execution_count": null,
      "outputs": []
    },
    {
      "cell_type": "code",
      "source": [
        "#task-9\n",
        "#Todo\n",
        "count=1\n",
        "sum=0\n",
        "max=int(input('enter max value'))\n",
        "for count in range(1,max):\n",
        "    if(count%7==0):\n",
        "        sum=sum+count\n",
        "        count+=1\n",
        "print(sum)"
      ],
      "metadata": {
        "id": "3X5t1UEcgH7f"
      },
      "execution_count": null,
      "outputs": []
    },
    {
      "cell_type": "code",
      "source": [
        "#task-10\n",
        "#Todo\n",
        "sum=0\n",
        "for y in range(10):\n",
        "    y=int(input(\"number: \"))\n",
        "    sum=sum+y\n",
        "    print(sum)"
      ],
      "metadata": {
        "id": "GMxGY4aYgH9r"
      },
      "execution_count": null,
      "outputs": []
    },
    {
      "cell_type": "code",
      "source": [
        "#task-11\n",
        "#Todo\n",
        "n=int(input('enter n'))\n",
        "while(n>=1.0):\n",
        "    digit=n%10\n",
        "    n=n//10\n",
        "    print(digit,end=\",\")"
      ],
      "metadata": {
        "id": "80XZ_DS2gIAI"
      },
      "execution_count": null,
      "outputs": []
    },
    {
      "cell_type": "code",
      "source": [
        "#task-12\n",
        "#Todo\n",
        "n=int(input('enter num:'))\n",
        "count=0\n",
        "while(n>0):\n",
        "    count=count+1\n",
        "    n=n//10\n",
        "print(count)"
      ],
      "metadata": {
        "id": "lFUx1XSwgIB9"
      },
      "execution_count": null,
      "outputs": []
    },
    {
      "cell_type": "code",
      "source": [
        "#task-13\n",
        "#todo\n",
        "n=int(input('enter n:'))\n",
        "exponent=int(input(' enter exponent:'))\n",
        "product=1\n",
        "i=1\n",
        "while(i<=exponent):\n",
        "    product=product*10\n",
        "    i=i+1\n",
        "print(product)"
      ],
      "metadata": {
        "id": "lWx6-bAvgqK5"
      },
      "execution_count": null,
      "outputs": []
    },
    {
      "cell_type": "code",
      "source": [
        "#task-14\n",
        "#Todo\n",
        "i=1\n",
        "count=0\n",
        "n=int(input('enter n'))\n",
        "while i<=n:\n",
        "    if n%i==0:\n",
        "        print(i)\n",
        "        count=count+1\n",
        "    i+=1\n",
        "print('total divisors',count)"
      ],
      "metadata": {
        "id": "qyyoJZY7gqNH"
      },
      "execution_count": null,
      "outputs": []
    },
    {
      "cell_type": "code",
      "source": [
        "#task-15\n",
        "'''Write a Python program that takes a number and tells if it is a perfect number or not.\n",
        "\n",
        "**Perfect Number:** An integer number is said to be a perfect number if its factors, including 1 but not the number itself, sum to the number.\n",
        "\n",
        "**Example1:**\n",
        "\n",
        "Input: 6 \\\n",
        "Output: “6 is a perfect number” \\\n",
        "Explanation: 6 have 4 divisors: 1, 2, 3, and 6. \\\n",
        "If we add all factors except itself, 6 = 1 + 2 + 3.\n",
        "\n",
        "**Example2:**\n",
        "\n",
        "Input: 28 \\\n",
        "Output: “28 is a perfect number” \\\n",
        "Explanation: 28 have 6 divisors: 1, 2, 4, 7, 14, and 28. \\\n",
        "If we add all factors except itself, 28 = 1 + 2 + 4 + 7 + 14.\n",
        "\n",
        "**Example3:**\n",
        "\n",
        "Input: 33 \\\n",
        "Output: “33 is not a perfect number” \\\n",
        "Explanation: 33 have 3 divisors: 1, 3, 11, and 33. \\\n",
        "If we add all factors except itself, 15 = 1 + 3 + 11. '''\n",
        "#todo\n",
        "n=int(input('enter n'))\n",
        "sum=0\n",
        "for i in range(1,n):\n",
        "    if(n%i==0):\n",
        "        sum=sum+i\n",
        "if(sum==n):\n",
        "    print(n,'is a perfect num')\n",
        "else:\n",
        "    print(n,'is not a perfect num')"
      ],
      "metadata": {
        "id": "l8xndX-HgrEV"
      },
      "execution_count": null,
      "outputs": []
    },
    {
      "cell_type": "code",
      "source": [
        "#task-16\n",
        "#Todo\n",
        "num = int(input(\"Enter a number: \"))\n",
        "if num > 1:\n",
        "    for i in range(2,num,1):\n",
        "        if num % i==0:\n",
        "            print(num,\"is not a prime number\")\n",
        "            break\n",
        "    else:\n",
        "        print(num,\"is a prime number\")\n",
        "\n",
        "else:\n",
        "    print(num,\"is not a prime number\")"
      ],
      "metadata": {
        "id": "D57dS8AMgrLB"
      },
      "execution_count": null,
      "outputs": []
    },
    {
      "cell_type": "code",
      "source": [
        "#task-17\n",
        "#todo\n",
        "x=int(input('enter quantity: '))\n",
        "max=0\n",
        "min=0\n",
        "sum=0\n",
        "for i in range(1,x+1):\n",
        "    z=int(input('enter num:'))\n",
        "    if max < z:\n",
        "        max=z\n",
        "    elif min > z:\n",
        "        min=z\n",
        "    sum+=z\n",
        "    i+=1\n",
        "avg=sum/x\n",
        "print(\"maximum \",max,',',\"minimum \",min,',' \"average is \",avg)"
      ],
      "metadata": {
        "id": "5l-hzE4IgrRL"
      },
      "execution_count": null,
      "outputs": []
    },
    {
      "cell_type": "code",
      "source": [
        "#optional(18-19)\n",
        "#task-18\n",
        "#Todo\n",
        "n=int(input('enter number: '))\n",
        "min=n\n",
        "sum=0\n",
        "count=0\n",
        "for i in range(4):\n",
        "    a=int(input('enter number1:'))\n",
        "    if a<min:\n",
        "        min=a\n",
        "    if a%2==0:\n",
        "        sum+=a\n",
        "        count+=1\n",
        "if n%2==0:\n",
        "    sum=sum+n\n",
        "    count+=1\n",
        "avg=sum/count\n",
        "print(\"minimum\",min,',','average is',avg)"
      ],
      "metadata": {
        "id": "1fbZBy6MgrXU"
      },
      "execution_count": null,
      "outputs": []
    },
    {
      "cell_type": "code",
      "source": [
        "#task-19\n",
        "#Todo\n",
        "s=1\n",
        "n=int(input('enter quantity:'))\n",
        "for x in range(0,n,1):\n",
        "    x=int(input('enter num:'))\n",
        "    s=s*x\n",
        "print(s)"
      ],
      "metadata": {
        "id": "Gya97udhgre5"
      },
      "execution_count": null,
      "outputs": []
    },
    {
      "cell_type": "code",
      "source": [
        "#task-20\n",
        "# m=int(input('enter starting num:'))\n",
        "# n=int(input('enter ending num:'))\n",
        "# sum=0\n",
        "# primecount=0\n",
        "# perfectcount=0\n",
        "# x=''\n",
        "# y=''\n",
        "# for i in range (m,n+1,1):\n",
        "#     if i>1:\n",
        "#         for j in range(2,i):\n",
        "#             if(i%j==0):\n",
        "#                 break\n",
        "#         else:\n",
        "#             primecount+=1\n",
        "#             x=x+str(i)+\",\"\n",
        "# for g in range(m,n+1):\n",
        "#     for h in range(1,g):\n",
        "#         if(g%h==0):\n",
        "#             sum=sum+h\n",
        "#     if(sum==g):\n",
        "#         perfectcount+=1\n",
        "#         y=y+str(i)+\",\"\n",
        "#     sum=0\n",
        "# print('Between',m,'and',n)\n",
        "# print('Found',primecount,'prime numbers')\n",
        "# print('Found',perfectcount,'perfect numbers')\n",
        "# print('prime numbers: ',x[:-1])\n",
        "# print('perfect numbers: ',y[:-1])\n",
        "\n",
        "#or\n",
        "\n",
        "r1=int(input())\n",
        "r2=int(input())\n",
        "prime=[]\n",
        "perfect=[]\n",
        "pr,pf=0,0\n",
        "for n in range(r1,r2+1):\n",
        "    sum=0\n",
        "    f=0\n",
        "    for k in range(1,n+1):\n",
        "        if n%k==0:\n",
        "            f+=1\n",
        "            sum=sum+k\n",
        "    if f==2:\n",
        "        prime.append(n)\n",
        "        pr+=1\n",
        "    if sum-n==n:\n",
        "        perfect.append(n)\n",
        "        pf+=1\n",
        "print(perfect)\n",
        "print(len(perfect))\n",
        "print(prime)\n",
        "print(len(prime))"
      ],
      "metadata": {
        "id": "ZEdX-yMZgrjx"
      },
      "execution_count": null,
      "outputs": []
    },
    {
      "cell_type": "code",
      "source": [
        "#task-21\n",
        "#Todo\n",
        "n=int(input('enter num:'))\n",
        "count=0\n",
        "power=0\n",
        "tempory=n\n",
        "while n!=0:\n",
        "    n=n//10\n",
        "    count=count+1\n",
        "power=pow(10,count-1)\n",
        "while tempory!=0:\n",
        "    result=tempory//power\n",
        "    print(result,end=\", \")\n",
        "    tempory=tempory%power\n",
        "    power=power//10"
      ],
      "metadata": {
        "id": "5iDC4GddgrqD"
      },
      "execution_count": null,
      "outputs": []
    }
  ]
}