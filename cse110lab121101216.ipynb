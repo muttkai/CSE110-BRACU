{
 "cells": [
  {
   "cell_type": "code",
   "execution_count": null,
   "id": "1d264d92",
   "metadata": {},
   "outputs": [],
   "source": [
    "CSE110 Assignment 1\n",
    "This assignment is to guide you to solve basic programming problems in Python. Since this is the first assignment, the first problem is solved for you with explanations. Some problems are partially solved to help you. Go through them, try to understand and question each statment of the following questions and codes. If you can understand the problems and the solutions, solving more difficult problems would not seem so difficult.\n",
    "\n",
    "Write the Python code of the following problems:"
   ]
  },
  {
   "cell_type": "code",
   "execution_count": null,
   "id": "416fbd08",
   "metadata": {},
   "outputs": [],
   "source": [
    "Task 1\n",
    "Write Python code of a program that reads two numbers from the user, and prints their sum, product, and difference.\n",
    "\n",
    "hint: Subtract the second number from the first one\n",
    "\n",
    "For your explanation, the first question's code is done below. Try relating the block of code with the lesson you have learned and understand \n",
    "the significance of each line. You're most welcome to play around with the code. This will strengthen your understanding."
   ]
  },
  {
   "cell_type": "code",
   "execution_count": 1,
   "id": "a093b1ce",
   "metadata": {},
   "outputs": [
    {
     "name": "stdout",
     "output_type": "stream",
     "text": [
      "Please Enter Your First Number2\n",
      "Please Enter Your Second Number2\n",
      "<class 'str'>\n",
      "<class 'str'>\n",
      "Sum is 4\n",
      "Product is 4\n",
      "Difference is 0\n"
     ]
    }
   ],
   "source": [
    "### Take input of 2 numbers from the user\n",
    "var_1 = input('Please Enter Your First Number')\n",
    "var_2 = input('Please Enter Your Second Number')\n",
    "\n",
    "#Since input() function converts everything to String,\n",
    "#for performing any kind of mathematical operation you need to convert them to int.\n",
    "#For this conversion, we need to use int() function\n",
    "\n",
    "\n",
    "# First, let's clarify whether the inputs are actually Strings or not. \n",
    "print(type(var_1))\n",
    "print(type(var_2))\n",
    "\n",
    "\n",
    "# Convert Strings to integer using the int() function\n",
    "var_3 = int(var_1)\n",
    "var_4 = int(var_2)\n",
    "\n",
    "# Perform Addition\n",
    "sum = var_3 + var_4\n",
    "\n",
    "# Perform Multiplication \n",
    "product = var_3 * var_4\n",
    "\n",
    "# Perform Substraction \n",
    "difference = var_4 - var_3\n",
    "\n",
    "# Print all the calculated results\n",
    "print(\"Sum is\", sum)\n",
    "print(\"Product is\", product)\n",
    "print(\"Difference is\", difference)"
   ]
  },
  {
   "cell_type": "code",
   "execution_count": null,
   "id": "4923847e",
   "metadata": {},
   "outputs": [],
   "source": [
    "Task 2\n",
    "Write Python code of a program that reads the radius of a circle and prints its circumference and area.\n",
    "\n",
    "hint: import math and then use math.pi for getting the value of pi. For details read from https://docs.python.org/3/library/math.html\n",
    "\n",
    "Example:\n",
    "Input: 4\n",
    "Output:\n",
    "Area is 50.26548245743669\n",
    "Circumference is 25.132741228718345\n",
    "\n",
    "Input: 3.5\n",
    "Output:\n",
    "Area is 38.48451000647496\n",
    "Circumference is 21.991148575128552"
   ]
  },
  {
   "cell_type": "code",
   "execution_count": 2,
   "id": "e5e60b9a",
   "metadata": {},
   "outputs": [
    {
     "name": "stdout",
     "output_type": "stream",
     "text": [
      "Enter Radious :2\n",
      "Area: 12.56\n",
      "Circumference 12.56\n"
     ]
    }
   ],
   "source": [
    "# import math\n",
    "#todo\n",
    "pi =3.14\n",
    "r =float(input(\"Enter Radious :\"))\n",
    "area =pi*r*r\n",
    "print('Area:',area)\n",
    "circumference=2*pi*r\n",
    "print('Circumference',circumference)"
   ]
  },
  {
   "cell_type": "code",
   "execution_count": 3,
   "id": "a322937f",
   "metadata": {},
   "outputs": [
    {
     "name": "stdout",
     "output_type": "stream",
     "text": [
      "Enter Radious :3\n",
      "Area: 28.259999999999998\n",
      "Circumference 18.84\n"
     ]
    }
   ],
   "source": [
    "#import math\n",
    "#todo\n",
    "pi=3.14\n",
    "r =float(input(\"Enter Radious :\"))\n",
    "area =pi*r*r\n",
    "print('Area:',area)\n",
    "circumference=2*pi*r\n",
    "print('Circumference',circumference)\n"
   ]
  },
  {
   "cell_type": "code",
   "execution_count": null,
   "id": "36b37040",
   "metadata": {},
   "outputs": [],
   "source": [
    "Task 3\n",
    "Write Python code of a program that reads two numbers from the user. Your program should then print “First is greater” if the first number is\n",
    "greater, “Second is greater” if the second number is greater, and “The numbers are equal” otherwise."
   ]
  },
  {
   "cell_type": "code",
   "execution_count": 4,
   "id": "92b1faed",
   "metadata": {},
   "outputs": [
    {
     "name": "stdout",
     "output_type": "stream",
     "text": [
      "enter first number:6\n",
      "enter second number:3\n",
      "First is greater\n"
     ]
    }
   ],
   "source": [
    "#Todo\n",
    "x=float(input('enter first number:'))\n",
    "y=float(input('enter second number:'))\n",
    "if(x>y):\n",
    "    print('First is greater')\n",
    "elif(x<y):\n",
    "    print('Second is greater')\n",
    "else:\n",
    "    print('the number is equal')"
   ]
  },
  {
   "cell_type": "code",
   "execution_count": null,
   "id": "a29433ca",
   "metadata": {},
   "outputs": [],
   "source": [
    "Task 4\n",
    "Write Python code of a program that reads two numbers, subtracts the smaller number from the larger one, and prints the result.\n",
    "\n",
    "hint: First check which number is greater"
   ]
  },
  {
   "cell_type": "code",
   "execution_count": 5,
   "id": "b089cf69",
   "metadata": {},
   "outputs": [
    {
     "name": "stdout",
     "output_type": "stream",
     "text": [
      "enter first number:2\n",
      "enter second number:3\n",
      "-1.0\n"
     ]
    }
   ],
   "source": [
    "#Todo\n",
    "x=float(input('enter first number:'))\n",
    "y=float(input('enter second number:'))\n",
    "print(x-y)"
   ]
  },
  {
   "cell_type": "code",
   "execution_count": null,
   "id": "b7695b1e",
   "metadata": {},
   "outputs": [],
   "source": [
    "Task 5\n",
    "Write Python code of a program that reads a number, and prints “The number is even” or “The number is odd”,\n",
    "depending on whether the number is even or odd.\n",
    "\n",
    "hint: use the modulus (%) operator"
   ]
  },
  {
   "cell_type": "code",
   "execution_count": 8,
   "id": "32b9ea4c",
   "metadata": {},
   "outputs": [
    {
     "name": "stdout",
     "output_type": "stream",
     "text": [
      "enter number :2\n",
      "the number is even\n"
     ]
    }
   ],
   "source": [
    "#Todo\n",
    "n=int(input(\"Enter number :\"))\n",
    "if (n % 2 == 0):\n",
    "    print(\"The number is even\")\n",
    "else:\n",
    "    print(\"The number is odd\")"
   ]
  },
  {
   "cell_type": "code",
   "execution_count": null,
   "id": "dced0735",
   "metadata": {},
   "outputs": [],
   "source": [
    "Task 6\n",
    "Write Python code of a program that reads an integer, and prints the integer if it is a multiple of either 2 or 5.\n",
    "\n",
    "For example, 2, 4, 5, 6, 8, 10, 12, 14, 15, 16, 18, 20, 22 …"
   ]
  },
  {
   "cell_type": "code",
   "execution_count": 9,
   "id": "56ddb915",
   "metadata": {},
   "outputs": [
    {
     "name": "stdout",
     "output_type": "stream",
     "text": [
      "enter n2\n",
      "multiple of 2\n"
     ]
    }
   ],
   "source": [
    "#Todo\n",
    "n=int(input('enter n'))\n",
    "if n%5==0:\n",
    "    print('multiple of 5')\n",
    "if n%2==0:\n",
    "    print('multiple of 2')"
   ]
  },
  {
   "cell_type": "code",
   "execution_count": null,
   "id": "55e14dd8",
   "metadata": {},
   "outputs": [],
   "source": [
    "Task 7\n",
    "Write Python code of a program that reads an integer, and prints the integer it is a multiple of either 2 or 5 but not both.\n",
    "\n",
    "For example, 2, 4, 5, 6, 8, 12, 14, 15, 16, 18, 22 …"
   ]
  },
  {
   "cell_type": "code",
   "execution_count": 10,
   "id": "f99fbe01",
   "metadata": {},
   "outputs": [
    {
     "name": "stdout",
     "output_type": "stream",
     "text": [
      "enter x5\n",
      "multiple of 5\n"
     ]
    }
   ],
   "source": [
    "#Todo\n",
    "x=int(input('enter x'))\n",
    "if x%2==0 and x%5==0:\n",
    "    print('multiple of 2')\n",
    "else:   \n",
    "    print('multiple of 5')"
   ]
  },
  {
   "cell_type": "code",
   "execution_count": null,
   "id": "7a630c61",
   "metadata": {},
   "outputs": [],
   "source": [
    "Task 8\n",
    "Write Python code of a program that reads an integer, and prints the integer if it is a multiple of 2 and 5.\n",
    "\n",
    "For example, 10, 20, 30, 40, 50 …"
   ]
  },
  {
   "cell_type": "code",
   "execution_count": 11,
   "id": "7d1a9cde",
   "metadata": {},
   "outputs": [
    {
     "name": "stdout",
     "output_type": "stream",
     "text": [
      "enter x5\n",
      "multiple of 2 and 5\n"
     ]
    }
   ],
   "source": [
    "#Todo\n",
    "x=int(input('enter x'))\n",
    "if x%2 and x%5 ==0:\n",
    "    print('multiple of 2 and 5')"
   ]
  },
  {
   "cell_type": "code",
   "execution_count": null,
   "id": "8d18934a",
   "metadata": {},
   "outputs": [],
   "source": [
    "Task 9\n",
    "Write Python code of a program that reads an integer, and prints the integer if it is a multiple of NEITHER 2 NOR 5.\n",
    "\n",
    "For example, 1, 3, 7, 9, 11, 13, 17, 19, 21, 23, 27, 29, 31, 33, 37, 39 …"
   ]
  },
  {
   "cell_type": "code",
   "execution_count": 13,
   "id": "3c571c01",
   "metadata": {},
   "outputs": [
    {
     "name": "stdout",
     "output_type": "stream",
     "text": [
      "enter x5\n"
     ]
    }
   ],
   "source": [
    "#Todo\n",
    "x=int(input('enter x'))\n",
    "if x%2!=0 and x%5!=0:\n",
    "    print('multiple of neither 2 nor 5 ')"
   ]
  },
  {
   "cell_type": "code",
   "execution_count": null,
   "id": "09a34d86",
   "metadata": {},
   "outputs": [],
   "source": [
    "Task 10\n",
    "Write Python code of a program that reads an integer, and prints the integer if it is NOT a multiple of 2 OR NOT a multiple of 5.\n",
    "\n",
    "For example, 1, 2, 3, 4, 5, 6, 7, 8, 9, 11, 12, 13, 14, 15, 16, 17, 18, 19, 21, 22"
   ]
  },
  {
   "cell_type": "code",
   "execution_count": null,
   "id": "c508db6d",
   "metadata": {},
   "outputs": [],
   "source": [
    "#Todo\n",
    "x=int(input('enter x'))\n",
    "if x%5!=0 :\n",
    "    print('not multiple of 5')\n",
    "if x%2!=0:\n",
    "    print('no multiple of 2')"
   ]
  },
  {
   "cell_type": "code",
   "execution_count": null,
   "id": "b8360e53",
   "metadata": {},
   "outputs": [],
   "source": [
    "Task 11\n",
    "Write Python code of a program that reads a student’s mark for a single subject, and prints out the corresponding grade for that mark. The mark ranges and corresponding grades are shown in the table below.\n",
    "\n",
    "hint: This problem can be solved in two ways: top-down (starts from A) and bottom-up (starts from F)\n",
    "\n",
    "Marks\tGrage\n",
    "90 or above\tA\n",
    "80-89\tB\n",
    "70-79\tC\n",
    "60-69\tD\n",
    "50-59\tE\n",
    "Below 50\tF"
   ]
  },
  {
   "cell_type": "code",
   "execution_count": 14,
   "id": "70393287",
   "metadata": {},
   "outputs": [
    {
     "name": "stdout",
     "output_type": "stream",
     "text": [
      "50\n",
      "E\n"
     ]
    }
   ],
   "source": [
    "#Todo\n",
    "x=int(input())\n",
    "if x<50:\n",
    "    print('F')\n",
    "elif x>=50 and x<=59:\n",
    "    print('E')\n",
    "elif x>=60 and x<=69:\n",
    "    print('D')\n",
    "elif x>=70 and x<=79:\n",
    "    print('C') \n",
    "elif x>=80 and x<=89:\n",
    "    print('B')\n",
    "else:\n",
    "    print('A')"
   ]
  },
  {
   "cell_type": "code",
   "execution_count": null,
   "id": "9e112c55",
   "metadata": {},
   "outputs": [],
   "source": [
    "Task 12\n",
    "Write Python code of a program to compute and display a person’s weekly salary as determined by the following conditions: If the hours worked are less than or equal to 40, the person receives Tk200.00 per hour, else the person receives Tk8000.00 plus Tk300.00 for each hour worked over 40 hours. The program should request the hours worked as input and should display the salary as output.\n",
    "\n",
    "example1:\n",
    "Input: 100\n",
    "Output: 26000\n",
    "\n",
    "example2:\n",
    "Input: 30\n",
    "Output: 6000"
   ]
  },
  {
   "cell_type": "code",
   "execution_count": 15,
   "id": "7a630cdd",
   "metadata": {},
   "outputs": [
    {
     "name": "stdout",
     "output_type": "stream",
     "text": [
      "enter hour5\n",
      "1000\n"
     ]
    }
   ],
   "source": [
    "#todo\n",
    "x=int(input('enter hour'))\n",
    "if(x<=40):\n",
    "    print(x*200)\n",
    "else:\n",
    "    extra_hour=(x-40)\n",
    "    salary=(extra_hour*300+8000)\n",
    "    print(salary)"
   ]
  },
  {
   "cell_type": "code",
   "execution_count": null,
   "id": "bd532735",
   "metadata": {},
   "outputs": [],
   "source": [
    "Write Python code of a program that finds the number of hours, minutes, and seconds in a given number of seconds.\n",
    "\n",
    "Example:\n",
    "Input: 10000 seconds\n",
    "Output: 2 Hours 46 minutes, 40 seconds\n",
    "\n",
    "hints: 1 hour = 60 mins = 3600 seconds\n",
    "1min = 60 seconds"
   ]
  },
  {
   "cell_type": "code",
   "execution_count": 16,
   "id": "2fdfc00f",
   "metadata": {},
   "outputs": [
    {
     "name": "stdout",
     "output_type": "stream",
     "text": [
      "please enter the time5\n",
      "0 hours 0 minutes 5 seconds\n"
     ]
    }
   ],
   "source": [
    "#Todo\n",
    "# time=float(input('input time in seconds:'))\n",
    "# day=time//(24*3600)\n",
    "# time=time%(24*3600)\n",
    "# hour=time//3600\n",
    "# time %=3600\n",
    "# minutes=time//60\n",
    "# time %=60\n",
    "# seconds=time\n",
    "# print(hour,minutes,seconds)\n",
    "#or\n",
    "time=int(input('please enter the time'))\n",
    "hours=time//3600\n",
    "minutes=(time%3600)//60\n",
    "seconds=(time%3600)%60\n",
    "print(hours,'hours',minutes,'minutes',seconds,'seconds')"
   ]
  },
  {
   "cell_type": "code",
   "execution_count": null,
   "id": "f0edaf3b",
   "metadata": {},
   "outputs": [],
   "source": [
    "Suppose the following expressions are used to calculate the values of L for different values of S:\n",
    "\n",
    " if \n",
    "\n",
    " \n",
    " if \n",
    "\n",
    "Write a Python code of a program that reads a value of S and then calculates the value of L.\n",
    "\n",
    "For example:\n",
    "If S=3, L= 1875.\n",
    "If S=120, L= 2416.2162162162163\n",
    "\n",
    "hints: You can import math and use math function for making squares math.pow(number, power) Or you can simply write S**2."
   ]
  },
  {
   "cell_type": "code",
   "execution_count": 17,
   "id": "814e41c8",
   "metadata": {},
   "outputs": [
    {
     "name": "stdout",
     "output_type": "stream",
     "text": [
      "enter S5\n",
      "-125\n"
     ]
    }
   ],
   "source": [
    "#Todo\n",
    "S=int(input('enter S'))\n",
    "if(S<100):\n",
    "    L=3000-(125*S**2)\n",
    "    print(L)\n",
    "\n",
    "elif(S>=100):\n",
    "    L=12000/(4+S**2/14900)\n",
    "    print(L)"
   ]
  },
  {
   "cell_type": "code",
   "execution_count": null,
   "id": "e5d27d57",
   "metadata": {},
   "outputs": [],
   "source": [
    "Task 15\n",
    "Take an hour from the user as input and tell it is time for which meal.\n",
    "\n",
    "• The user will input the number in a 24-hour format. So, 14 means 2 pm, 3 means 3 am, 18 means 6 pm, etc.\n",
    "• Valid inputs are 0 to 23. Inputs less than 0 or more than 23 are invalid in 24-hour clock.\n",
    "• Assume, Input will be whole numbers. For example, 3.5 will NOT be given as input.\n",
    "\n",
    "Inputs: Message to be printed\n",
    "4 to 6: Breakfast\n",
    "12 to 13: Lunch\n",
    "16 to 17: Snacks\n",
    "19 to 20: Dinner\n",
    "For all other valid inputs, say \"Patience is a virtue\"\n",
    "For all other invalid inputs, say \"Wrong time\"\n",
    "\n",
    "For example,\n",
    "If the user enters 4, your program should print the message \"Breakfast\".\n",
    "If the user enters 5, your program should print the message \"Breakfast\".\n",
    "If the user enters 6, your program should print the message \"Breakfast\".\n",
    "If the user enters 0, your program should print the message \"Patience is a virtue\".\n",
    "If the user enters 1, your program should print the message \"Patience is a virtue\".\n",
    "If the user enters 18, your program should print the message \"Patience is a virtue\".\n",
    "If the user enters 23, your program should print the message \"Patience is a virtue\".\n",
    "If the user enters 24, your program should print the message \"Wrong Time\".\n",
    "If the user enters -1, your program should print the message \"Wrong Time\".\n",
    "If the user enters 27, your program should print the message \"Wrong time\".\n",
    "\n",
    "Hints:\n",
    "You can use nested conditionals (if-else) or chained conditions (if-elif-else) to solve this problem."
   ]
  },
  {
   "cell_type": "code",
   "execution_count": 18,
   "id": "a8435f81",
   "metadata": {},
   "outputs": [
    {
     "name": "stdout",
     "output_type": "stream",
     "text": [
      "enter hour :5\n",
      "Breakfast\n"
     ]
    }
   ],
   "source": [
    "#Todo\n",
    "a=int(input('enter hour :'))\n",
    "if(a>=0 and a<=23):\n",
    "    if(a>4 and a<=6):\n",
    "        print('Breakfast')\n",
    "    elif(a>=12 and a<=13):\n",
    "        ptint('Lunch')\n",
    "    elif(a>=16 and a<=17):\n",
    "        print('snakes')\n",
    "    elif(a>=19 and a<=20):\n",
    "        print('Dinner')\n",
    "    else:\n",
    "        print('patience is a virtue')\n",
    "else:\n",
    "    print('wrong time')"
   ]
  }
 ],
 "metadata": {
  "kernelspec": {
   "display_name": "Python 3",
   "language": "python",
   "name": "python3"
  },
  "language_info": {
   "codemirror_mode": {
    "name": "ipython",
    "version": 3
   },
   "file_extension": ".py",
   "mimetype": "text/x-python",
   "name": "python",
   "nbconvert_exporter": "python",
   "pygments_lexer": "ipython3",
   "version": "3.8.8"
  }
 },
 "nbformat": 4,
 "nbformat_minor": 5
}
