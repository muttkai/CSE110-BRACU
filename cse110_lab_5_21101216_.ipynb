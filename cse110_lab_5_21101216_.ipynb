{
  "nbformat": 4,
  "nbformat_minor": 0,
  "metadata": {
    "colab": {
      "provenance": []
    },
    "kernelspec": {
      "name": "python3",
      "display_name": "Python 3"
    },
    "language_info": {
      "name": "python"
    }
  },
  "cells": [
    {
      "cell_type": "code",
      "source": [
        " x=input().split()\n",
        "for i in range(len(x)):\n",
        "    x[i]=int(x[i])\n",
        "a,b,c,d=x\n",
        "\n",
        "inicial=a*60+b\n",
        "final=c*60+d\n",
        "duration=0\n",
        "if(a <= c):\n",
        "    duration=final-inicial\n",
        "    if(duration== 0):\n",
        "        print(\"O JOGO DUROU %d HORA(S) E %d MINUTO(S)\"%(24,duration%60))\n",
        "    else:\n",
        "        print(\"O JOGO DUROU %d HORA(S) E %d MINUTO(S)\"%((duration-duration%60)/60,duration%60))\n",
        "else:\n",
        "    duration=(24*60 -inicial)+final\n",
        "    print(\"O JOGO DUROU %d HORA(S) E %d MINUTO(S)\" %((duration-duration%60)/60,duration%60))"
      ],
      "metadata": {
        "id": "F8yN7Iyt18uH"
      },
      "execution_count": null,
      "outputs": []
    },
    {
      "cell_type": "code",
      "source": [
        "#task-1\n",
        "# to do\n",
        "def evenChecker(n10):\n",
        "    if n10%2==0:\n",
        "        print('Even!!')\n",
        "    if n10%2!=0:\n",
        "        print('Odd!!')\n",
        "evenChecker(5)"
      ],
      "metadata": {
        "id": "ZOgOA70a18wk"
      },
      "execution_count": null,
      "outputs": []
    },
    {
      "cell_type": "code",
      "source": [
        "#task-2\n",
        "# to do\n",
        "def Fibonacci(n10):\n",
        "    f10=0\n",
        "    s10=1\n",
        "    print(str(f10)+' '+str(s10),end=' ')\n",
        "    while f10+s10<=n10:\n",
        "        t10=f10+s10\n",
        "        print(str(t10),end=' ')\n",
        "        f10=s10\n",
        "        s10=t10\n",
        "Fibonacci(10)\n",
        "#alter\n",
        "n = int(input(\"Enter your number: \"))\n",
        "a = 0\n",
        "b = 1\n",
        "for i in range(n):\n",
        "    print(a, end=\" \")\n",
        "    c = a + b\n",
        "    a = b\n",
        "    b = c\n",
        "    if a > n:\n",
        "        break"
      ],
      "metadata": {
        "id": "odPaU2xG18y5"
      },
      "execution_count": null,
      "outputs": []
    },
    {
      "cell_type": "code",
      "source": [
        "#task-3\n",
        "# to do\n",
        "def fooMoo(n10):\n",
        "    v10=''\n",
        "    if n10%2==0 and n10%3!=0:\n",
        "        v10='Foo'\n",
        "    elif n10%3==0 and n10%2!=0:\n",
        "        v10='Moo'\n",
        "    elif n10%2==0 or n10%3==0:\n",
        "        v10='FooMoo'\n",
        "    else:\n",
        "        v10='Boo'\n",
        "    return v10\n",
        "fooMoo(5)"
      ],
      "metadata": {
        "id": "jhCUFGl6181G"
      },
      "execution_count": null,
      "outputs": []
    },
    {
      "cell_type": "code",
      "source": [
        "#task-4\n",
        "# to do\n",
        "def function_name(string_11):\n",
        "    d10=0\n",
        "    l10=0\n",
        "    for p in string_11:\n",
        "        if p.islower():\n",
        "            d10=d10+1\n",
        "        elif p.isupper():\n",
        "            l10=l10+1\n",
        "    print('No.of Uppercase characters:',l10)\n",
        "    print('No. of Lowercase Characters:',d10 )\n",
        "function_name('The quick Sand Man')\n",
        "\n",
        "\n",
        "def function_name(str):\n",
        "    upper=0\n",
        "    low=0\n",
        "    for i in a_str:\n",
        "\n",
        "        asc=ord(i)\n",
        "\n",
        "        if (asc>=65 and 90>=asc):\n",
        "\n",
        "            upper+=1\n",
        "        elif (asc>=97 and 122>=asc):\n",
        "\n",
        "            low+=1\n",
        "    print('No. of Uppercase characters :',upper)\n",
        "    print('No. of Lowercase characters :',low)\n",
        "a_str=input('')\n",
        "function_name(a_str)"
      ],
      "metadata": {
        "id": "mjirDwsr183b"
      },
      "execution_count": null,
      "outputs": []
    },
    {
      "cell_type": "code",
      "source": [
        "#task-5\n",
        "# to do\n",
        "def calculateTax(age,salary,current_job_designation):\n",
        "    tax=''\n",
        "    if age<18 or  current_job_designation=='president' or salary<1000:\n",
        "        tax=0\n",
        "    elif 10000<=salary<=20000:\n",
        "        tax=salary*.05\n",
        "    elif 20000<salary:\n",
        "        tax=salary*.1\n",
        "    return tax\n",
        "age=int(input())\n",
        "salary=int(input())\n",
        "current_job_designation=str(input())\n",
        "\n",
        "calculateTax(age,salary,current_job_designation)"
      ],
      "metadata": {
        "id": "c5RjBrk_185o"
      },
      "execution_count": null,
      "outputs": []
    },
    {
      "cell_type": "code",
      "source": [
        "#task-6\n",
        "# todo\n",
        "def function_name(number_of_days):\n",
        "    year=number_of_days//365\n",
        "    months=(number_of_days%365)//30\n",
        "    day=(number_of_days%365)%30\n",
        "    print(year,'years ,',months,'months','and',day,'days')\n",
        "number_of_days=int(input('input days:'))\n",
        "function_name(number_of_days)"
      ],
      "metadata": {
        "id": "akWu8IiA1878"
      },
      "execution_count": null,
      "outputs": []
    },
    {
      "cell_type": "code",
      "source": [
        "#task-7\n",
        "# to do\n",
        "def  splitting_money(m10):\n",
        "    money_dict={500:0,100:0,50:0,20:0,10:0,5:0,2:0,1:0}\n",
        "    for key in money_dict.keys():\n",
        "        if m10>=key:\n",
        "            money_dict[key]=m10//key\n",
        "            m10=m10%key\n",
        "    for key,m10 in money_dict.items():\n",
        "        if m10!=0:\n",
        "            print(key,'taka:',m10,'note(s)')\n",
        "    return\n",
        "\n",
        "m10=int(input())\n",
        "splitting_money(m10)"
      ],
      "metadata": {
        "id": "cgpvKuZl1897"
      },
      "execution_count": null,
      "outputs": []
    },
    {
      "cell_type": "code",
      "source": [
        "#task-8\n",
        "# to do\n",
        "def show_palindrome(n10):\n",
        "    li=[]\n",
        "    p10=1\n",
        "    t10=n10-1\n",
        "    while p10<=n10:\n",
        "        li.append(p10)\n",
        "        p10+=1\n",
        "    while 0<t10:\n",
        "        li.append(t10)\n",
        "        t10=t10-1\n",
        "    for x in li:\n",
        "        print(x,end='')\n",
        "show_palindrome(3)"
      ],
      "metadata": {
        "id": "CMG148aT19AJ"
      },
      "execution_count": null,
      "outputs": []
    },
    {
      "cell_type": "code",
      "source": [
        "#task-9\n",
        "# to do\n",
        "def showPalindromicTriangle(num10):\n",
        "    for i in range(num10):\n",
        "        for j in range(num10-i-1):\n",
        "            print(' ',end=' ')\n",
        "#         for k in range(1,i+2):\n",
        "#             print(k,end=' ')\n",
        "#         for m in range(i,0,-1):\n",
        "#             print(m,end=' ')\n",
        "        print()\n",
        "showPalindromicTriangle(3)"
      ],
      "metadata": {
        "id": "HQ-sd37d19Bn"
      },
      "execution_count": null,
      "outputs": []
    },
    {
      "cell_type": "code",
      "source": [
        "#task-10\n",
        "# to do\n",
        "def area_Circumference_Generator(r):\n",
        "    import math\n",
        "    pi =math.pi\n",
        "    area =pi*r*r\n",
        "    circumference=2*pi*r\n",
        "    tupl=(area,circumference)\n",
        "    a,b=tupl\n",
        "    print(tupl)\n",
        "    print('Area of the circle is',area,'and circumference is',circumference)\n",
        "\n",
        "    return\n",
        "area_Circumference_Generator(2.5)"
      ],
      "metadata": {
        "id": "Y9MuEFEDUU4a"
      },
      "execution_count": null,
      "outputs": []
    },
    {
      "cell_type": "code",
      "source": [
        "#task-11\n",
        "# to do\n",
        "def make_Square(x,y):\n",
        "    dictionary=dict()\n",
        "    for dictionary1 in range(x,y+1):\n",
        "        dictionary[dictionary1]=dictionary1*dictionary1\n",
        "    return dictionary\n",
        "print(make_Square(5,9))"
      ],
      "metadata": {
        "id": "B6bxZZKPUanE"
      },
      "execution_count": null,
      "outputs": []
    },
    {
      "cell_type": "code",
      "source": [
        "#task-12\n",
        "# to do\n",
        "def remove_Odd(lst):\n",
        "    even_numbers=[]\n",
        "    for j in lst:\n",
        "        if j%2==0:\n",
        "            even_numbers.append(j)\n",
        "    return even_numbers\n",
        "print(remove_Odd([21, 33, 44, 66, 11, 1, 88, 45, 10, 9]))"
      ],
      "metadata": {
        "id": "W_xOE24UUauN"
      },
      "execution_count": null,
      "outputs": []
    },
    {
      "cell_type": "code",
      "source": [
        "#task-13\n",
        "# to do\n",
        "def rem_Duplicate(tupl):\n",
        "    lst=[]\n",
        "    for j in tupl:\n",
        "        if j not in lst:\n",
        "            lst.append(j)\n",
        "    tup=tuple(lst)\n",
        "    return tup\n",
        "print(rem_Duplicate((\"Hi\", 1, 2, 3, 3, \"Hi\",'a', 'a', [1,2])))"
      ],
      "metadata": {
        "id": "1jZ279sHUllS"
      },
      "execution_count": null,
      "outputs": []
    },
    {
      "cell_type": "code",
      "source": [
        "#task-14\n",
        "\n",
        "# todo\n",
        "def function_name(lst):\n",
        "    lst2=[]\n",
        "    for x in lst:\n",
        "        if 0<=lst2.count(x)<2:\n",
        "            lst2.append(x)\n",
        "    print('Removed:',len(lst)-len(lst2))\n",
        "    return lst2\n",
        "function_name([1, 2, 3, 3, 3, 3, 4, 5, 8, 8])"
      ],
      "metadata": {
        "id": "J5oRMbw8Ulrz"
      },
      "execution_count": null,
      "outputs": []
    },
    {
      "cell_type": "code",
      "source": [
        "#task-15\n",
        "# to do\n",
        "def divisor(starting_value,ending_value,first_divisor,second_divisor):\n",
        "    value=0\n",
        "    for i in range(starting_value,ending_value):\n",
        "        if ((i%first_divisor!=0 and i%second_divisor==0) or (i%first_divisor==0 and i%second_divisor!=0)):\n",
        "            value=value+i\n",
        "    return value\n",
        "starting_value=int(input())\n",
        "ending_value=int(input())\n",
        "first_divisor=int(input())\n",
        "second_divisor=int(input())\n",
        "divisor(starting_value,ending_value,first_divisor,second_divisor)"
      ],
      "metadata": {
        "id": "fQo-GjxmUwSx"
      },
      "execution_count": null,
      "outputs": []
    },
    {
      "cell_type": "code",
      "source": [
        "#task-16\n",
        "# to do\n",
        "def sample_function(opperator,first_number,second_number):\n",
        "    result=0\n",
        "    if opperator =='+':\n",
        "        result=first_number+second_number\n",
        "    elif opperator=='-':\n",
        "        result=first_number-second_number\n",
        "    elif opperator=='*':\n",
        "        result=first_number*second_number\n",
        "    elif opperator=='/':\n",
        "        result=first_number/second_number\n",
        "    else:\n",
        "        result='error'\n",
        "    return result\n",
        "opperator=str(input())\n",
        "first_number=float(input())\n",
        "second_number=float(input())\n",
        "print(sample_function(opperator,first_number,second_number))"
      ],
      "metadata": {
        "id": "2HU0d6MBUwbh"
      },
      "execution_count": null,
      "outputs": []
    },
    {
      "cell_type": "code",
      "source": [
        "#task-17\n",
        "# to do\n",
        "def string_10(s10):\n",
        "    s10=s10.lower()\n",
        "    count=0\n",
        "    for i in range(ord('a'),ord('j')+1):\n",
        "            if chr(i) in s10:\n",
        "                count=1\n",
        "            else:\n",
        "                count=0\n",
        "                break\n",
        "    if count==0:\n",
        "        return 6\n",
        "    else:\n",
        "        return 5\n",
        "s10=input()\n",
        "temp=string_10(s10)\n",
        "for i in range(temp):\n",
        "    print('Chelsea is the best club in England')"
      ],
      "metadata": {
        "id": "x7W2vbKlU5sX"
      },
      "execution_count": null,
      "outputs": []
    },
    {
      "cell_type": "code",
      "source": [
        "#task-18\n",
        "#todo\n",
        "def cuttingcharacters(sentence,position):\n",
        "    temp=''\n",
        "    count=''\n",
        "    for p in range(0,len(sentence)):\n",
        "        if p!=0 and p%position==0:\n",
        "            temp+=sentence[p]\n",
        "        else:\n",
        "            count+=sentence[p]\n",
        "    return count+temp\n",
        "sentence=input()\n",
        "position=int(input())\n",
        "cuttingcharacters(sentence,position)"
      ],
      "metadata": {
        "id": "rzXTRqGvU_sP"
      },
      "execution_count": null,
      "outputs": []
    },
    {
      "cell_type": "code",
      "source": [
        "#task-19\n",
        "#todo\n",
        "def amount(order_items,location='Dhanmondi'):\n",
        "    item_in_stock={'Rice':105,'Potato':20,'Chicken':250,'Beef':510,'Oil':85}\n",
        "    total=0\n",
        "    if location=='Dhanmondi':\n",
        "        total+=30\n",
        "    else:\n",
        "        total+=70\n",
        "\n",
        "    for items in order_items:\n",
        "        for keys,values in item_in_stock.items():\n",
        "            if items==keys:\n",
        "                total+=values\n",
        "    return total\n",
        "x=input()\n",
        "lst1=[]\n",
        "lst1=x.split(',')\n",
        "print(amount(lst1))"
      ],
      "metadata": {
        "id": "y3IoWlskVHF1"
      },
      "execution_count": null,
      "outputs": []
    },
    {
      "cell_type": "code",
      "source": [
        "#task-20\n",
        "# to do\n",
        "def bonus(*args):\n",
        "    lst=[]\n",
        "    for i in args:\n",
        "        lst.append(i)\n",
        "    j=0\n",
        "    while j<len(lst):\n",
        "        name=lst[j]\n",
        "        earning=lst[j+1]\n",
        "        goal=lst[j+2]\n",
        "        percentage=lst[j+3]\n",
        "        j+=4\n",
        "        if 20<=goal<=30:\n",
        "            c=int(goal*(percentage/100*earning)+5000)\n",
        "        elif goal>30:\n",
        "            c=int(goal*(percentage/100*earning)+10000)\n",
        "        else:\n",
        "             c=int(goal*(percentage/100*earning))\n",
        "\n",
        "        print(name,'earned a bonus of', c,'Taka for',goal, 'goals.')\n",
        "bonus(\"Neymar\", 1200000, 30, 10,\"Jamal\", 700000, 19, 5)\n"
      ],
      "metadata": {
        "id": "f2jYQ9_FVPOA"
      },
      "execution_count": null,
      "outputs": []
    }
  ]
}