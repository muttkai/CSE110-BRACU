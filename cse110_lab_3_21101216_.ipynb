{
  "nbformat": 4,
  "nbformat_minor": 0,
  "metadata": {
    "colab": {
      "provenance": []
    },
    "kernelspec": {
      "name": "python3",
      "display_name": "Python 3"
    },
    "language_info": {
      "name": "python"
    }
  },
  "cells": [
    {
      "cell_type": "code",
      "source": [
        "#task-1\n",
        "#Todo\n",
        "string=input('enter the string')\n",
        "for row in range(len(length)):\n",
        "    for col in range(row+1):\n",
        "        print(string[col],end=\"\")\n",
        "    print()"
      ],
      "metadata": {
        "id": "hPXPnlTyoNCV"
      },
      "execution_count": null,
      "outputs": []
    },
    {
      "cell_type": "code",
      "source": [
        "#task-2\n",
        "#Todo\n",
        "s1=input('enter s1')\n",
        "s2=input('enter s2')\n",
        "c=''\n",
        "x=len(s1)\n",
        "if len(s1)<len(s2):\n",
        "    x=len(s2)\n",
        "for i in range(x):\n",
        "    if i<len(s1):\n",
        "        c+=s1[i]\n",
        "    if i<len(s2):\n",
        "        c+=s2[i]\n",
        "print(c)\n",
        "string1 = input(\"string- \")\n",
        "number1 = int(input(\"number- \") )\n",
        "\n",
        "if (number1 % 2) == 0:\n",
        "    Ntimes = 2*number1\n",
        "    Rstring = string1*Ntimes\n",
        "    print(Rstring)\n",
        "elif (number1 % 2)!= 0:\n",
        "    Ntimes1= 3 * number1\n",
        "    print(Ntimes1)\n",
        "    output_string =string1*Ntimes1\n",
        "    print(output_string)"
      ],
      "metadata": {
        "id": "9xabWWVYoWbe"
      },
      "execution_count": null,
      "outputs": []
    },
    {
      "cell_type": "code",
      "source": [
        "#task-3\n",
        "#Todo\n",
        "x=input('enter a word:')\n",
        "if len(x)<4:\n",
        "    print(x)\n",
        "elif x.endswith('est'):\n",
        "    print(x)\n",
        "elif len(x)>3 and 'er' not in x:\n",
        "    print(x+'er')\n",
        "elif x.endswith('er'):\n",
        "    y=len(x)-2\n",
        "    print((x[0:y])+'est')"
      ],
      "metadata": {
        "id": "48-FmpYkoa5e"
      },
      "execution_count": null,
      "outputs": []
    },
    {
      "cell_type": "code",
      "source": [
        "#task-4\n",
        "#Todo\n",
        "n=input('enter a word:')\n",
        "for char in n:\n",
        "    print(char,':',ord(char))"
      ],
      "metadata": {
        "id": "FAmkF8h7oh97"
      },
      "execution_count": null,
      "outputs": []
    },
    {
      "cell_type": "code",
      "source": [
        "#task-5\n",
        "#Todo\n",
        "n=input('enter a word in small lettters:')\n",
        "for i in n:\n",
        "    ascii_value=ord(i)+1\n",
        "    if ascii_value==123:\n",
        "        ascii_value=97\n",
        "        next_alphabet=chr(ascii_value)\n",
        "        print(next_alphabet,end='')\n",
        "    else:\n",
        "        next_alphabet=chr(ascii_value)\n",
        "        print(next_alphabet,end=\"\")"
      ],
      "metadata": {
        "id": "kRm1K0mUoa8b"
      },
      "execution_count": null,
      "outputs": []
    },
    {
      "cell_type": "code",
      "source": [
        "#task-6\n",
        "#Todo\n",
        "S1=input('enter S1:')\n",
        "S2=''\n",
        "for a in S1:\n",
        "    if len(S2)==0:\n",
        "        S2+=a\n",
        "    elif len(S2)>0:\n",
        "        if S2[-1]!=a:\n",
        "            S2+=a\n",
        "print(''.join(S2))"
      ],
      "metadata": {
        "id": "AhTWNu8Joa-Q"
      },
      "execution_count": null,
      "outputs": []
    },
    {
      "cell_type": "code",
      "source": [
        "#task-7\n",
        "#todo\n",
        "li=[]\n",
        "count=1\n",
        "for i in range(10):\n",
        "    n=int(input('enter n'))\n",
        "    li.append(n)\n",
        "    print('so far in the list:',li)"
      ],
      "metadata": {
        "id": "lO-Mg-6AobAV"
      },
      "execution_count": null,
      "outputs": []
    },
    {
      "cell_type": "code",
      "source": [
        "#task-8\n",
        "#Todo\n",
        "a_list=[10,20,24,25,26,35,70]\n",
        "print(a_list[2:5])"
      ],
      "metadata": {
        "id": "Qr2GO_zSobCx"
      },
      "execution_count": null,
      "outputs": []
    },
    {
      "cell_type": "code",
      "source": [
        "#task-9\n",
        "#Todo\n",
        "list_one=[1,2,3,4,5,6,7,8,9]\n",
        "list_two=[10,11,12,-13,-14,-15,-16]\n",
        "list_three=[]\n",
        "for i in list_one:\n",
        "    if i%2==0:\n",
        "        list_three.append(i)\n",
        "for i in list_two:\n",
        "    if i%2==0:\n",
        "        list_three.append(i)\n",
        "print(list_three)"
      ],
      "metadata": {
        "id": "ysoxHMBlobE2"
      },
      "execution_count": null,
      "outputs": []
    },
    {
      "cell_type": "code",
      "source": [
        "#task-10\n",
        "#Todo\n",
        "list_one=[1,2,4,5,5,7,99,200,303,70]\n",
        "list_two=[1,1,2,3,3,3,4,5,200,500,-5]\n",
        "result_list=[]\n",
        "for a in list_one:\n",
        "    if a not in result_list:\n",
        "        result_list.append(a)\n",
        "for a in list_two:\n",
        "    if a not in result_list:\n",
        "        result_list.append(a)\n",
        "print(result_list)"
      ],
      "metadata": {
        "id": "Q5xMK-1wobHE"
      },
      "execution_count": null,
      "outputs": []
    },
    {
      "cell_type": "code",
      "source": [
        "#task-11\n",
        "#Todo\n",
        "li=[]\n",
        "a=int(input('enter number:'))\n",
        "li.append(a)\n",
        "max=a\n",
        "for i in range(4):\n",
        "    b=int(input('enter number:'))\n",
        "    li.append(b)\n",
        "    if max<b:\n",
        "        max=b\n",
        "y=li.index(max)\n",
        "print(li)\n",
        "print('largest number',max,'was found at location',y)"
      ],
      "metadata": {
        "id": "8LDSjcmUobJi"
      },
      "execution_count": null,
      "outputs": []
    },
    {
      "cell_type": "code",
      "source": [
        "#task-12\n",
        "#todo\n",
        "li=[]\n",
        "a=int(input('enter number:'))\n",
        "li.append(a)\n",
        "max=a\n",
        "min=a\n",
        "for i in range(4):\n",
        "    b=int(input('enter number:'))\n",
        "    li.append(b)\n",
        "    if max<b:\n",
        "        max=b\n",
        "    if min>b:\n",
        "        min=b\n",
        "y=li.index(max)\n",
        "x=li.index(min)\n",
        "print(li)\n",
        "print('smallest number',min,'was found at location',x)\n",
        "print('largest number',max,'was found at location',y)"
      ],
      "metadata": {
        "id": "MVC_StYwobLZ"
      },
      "execution_count": null,
      "outputs": []
    }
  ]
}